{
 "cells": [
  {
   "cell_type": "code",
   "execution_count": 21,
   "metadata": {},
   "outputs": [],
   "source": [
    "import numpy as np\n",
    "import matplotlib.pyplot as plt\n",
    "from scipy import integrate\n",
    "from hankel import HankelTransform"
   ]
  },
  {
   "attachments": {},
   "cell_type": "markdown",
   "metadata": {},
   "source": [
    "First computing: \n",
    "\n",
    "$$ \\tilde{S}(k_{T}) = \\int d²r e^{ik \\cdot r} [1 - N(r)] = 2 \\pi \\int dr r J_0(k*r) (1 - N(r))$$\n",
    "\n",
    "1. Compute for the peak positions of the parameters (truth)\n",
    "2. Sample 100 parameters from posterior \n",
    "3. Compute and plot the average (median) and 1 standard dev (uncertainty estimate)\n",
    "\n",
    "Question: is N(r) in initial condition given by\n",
    "\n",
    "$$  N(r_T) = 1 - exp [ - \\frac{r_T^2 Q_{s0}^2}{4}  ln ( \\frac{1}{r_T \\Lambda_{QCD}} + e_c \\cdot e) ] $$\n",
    "\n",
    "if so where does C² come into play?\n",
    "\n",
    "When S(k) is obtained we are then able to get the leading order protom - nucleus cross sections in the hybrid formalism\n",
    "\n",
    "$$ \\frac{dN(b_T)}{dy d²k_T} = \\frac{1}{(2\\pi²)} xg(x, k_T²) \\tilde{S}^A (k_T) $$ \n",
    "\n",
    "where $S^A(k_T)$ is obtained from\n",
    "\n",
    "$$ N^A(r_T, b_T) = 1 - exp [ - A T_A(b_T) \\frac{\\sigma_0}{2} \\frac{r_T^2 Q_{s0}^2}{4}  ln ( \\frac{1}{r_T \\Lambda_{QCD}} + e_c \\cdot e) ]  $$\n",
    "\n",
    "where $T_A$ is the Woods-Saxon nuclear density. Because the fully impact parameter dependent BK equation develops unphysical Coulomb tails, the scattering amplitudes are solved for each b_T independently. Not reliable in region $b_T \\geq 6.3 fm$. The wood saxon nuclear density is the transverse thickness function of the nucleus obtained by integrating the Woods-Saxon distribution\n",
    "\n",
    "$$ \\rho_A(b_T, z) = \\frac{n}{1 + exp [\\frac{\\sqrt{b_T^2 + z^2} + R_A}{d}]} $$\n",
    "\n",
    "given d = 0.54 fm and $R_A = (1.12 A^{1/3} - 0.86 A^{-1/3})$ fm.\n"
   ]
  },
  {
   "cell_type": "code",
   "execution_count": 58,
   "metadata": {},
   "outputs": [],
   "source": [
    "# how to use hankel transform\n",
    "# define initial parameters of hankel transformation\n",
    "\n",
    "ht = HankelTransform(nu = 0, # order of Bessel function\n",
    "                     N = 1000, # Number of steps in integration\n",
    "                     h = 0.001 # Proxy for size of steps\n",
    "                     ) \n",
    "\n",
    "# and the values of the mve parametrization\n",
    "Qs02 = 0.077 #GeV^2 \n",
    "e_c = 7.835 \n",
    "sigma0_2 = 15.199 #GeV^-2\n",
    "# get uncertainty/ get samples from the distribution\n",
    "\n",
    "# define the function to transform\n",
    "\n",
    "def dipp(r, Qs02, e_c, sigma0_2):\n",
    "    lambda_qcd = 0.241 #GeV\n",
    "    B = (r**2)*(Qs02)\n",
    "    C = (1/(r*lambda_qcd) + e_c * np.exp(1))\n",
    "    N = 1 - np.exp(-B/4 * np.log(C))\n",
    "    return N\n",
    "\n",
    "def rho(z, bt, n):\n",
    "    RA = 1.12*A**(1/3) - 0.86*A**(-1/3) # fm\n",
    "    d = 0.54 # fm \n",
    "    # 5.068 fm = 1 GeV^-1 \n",
    "    rhoA = n / (1 + np.exp((np.sqrt(bt**2 + z**2) + RA)/d))\n",
    "    return rhoA\n",
    "\n",
    "def woods_saxon(bt, n):\n",
    "    TA = integrate.quad(rho, -np.inf(), np.inf(), args = (bt, n))\n",
    "    return TA[0]\n",
    "\n",
    "def woods_saxon_4norm(bt, n): # just the previous function but times 2 pi bt\n",
    "    TA = integrate.quad(rho, 0.0, 1.0, args = (bt, n))\n",
    "    return 2 * np.pi * bt * TA[0]\n",
    "\n",
    "def woods_saxon_norm():\n",
    "    a = 1\n",
    "    ta_norm = integrate.quad(woods_saxon_4norm, 0.0, 10.0, args=(a))\n",
    "    n = 1  / ta_norm[0]    \n",
    "    return n\n",
    "\n",
    "def dipA(r, A):\n",
    "    lambda_qcd = 0.241 #GeV\n",
    "    bt = 0.5 \n",
    "    n = woods_saxon_norm()\n",
    "    TA = woods_saxon(bt, n) \n",
    "    B = A * TA * (sigma0_2)*(r**2)*(Qs02)\n",
    "    C = 1/(r*lambda_qcd) + e_c * np.exp(1)\n",
    "    N = 1 - np.exp(-B/4 * np.log(C))\n",
    "    return N\n",
    "\n",
    "A = 1 # let's just let A be a proton now\n",
    "func = lambda r: 1 - dipp(r)\n",
    "func2 = lambda r: 1 - dipA(r, A)\n",
    "k = np.logspace(-1,1,50)   \n",
    "sp = ht.transform(func, k, ret_err = False)\n",
    "spA = ht.transform(func2, k, ret_err = False)"
   ]
  },
  {
   "cell_type": "code",
   "execution_count": 70,
   "metadata": {},
   "outputs": [
    {
     "data": {
      "text/plain": [
       "<matplotlib.legend.Legend at 0x7f22f3e17c10>"
      ]
     },
     "execution_count": 70,
     "metadata": {},
     "output_type": "execute_result"
    },
    {
     "data": {
      "image/png": "[encoded data removed]",
      "text/plain": [
       "<Figure size 640x480 with 1 Axes>"
      ]
     },
     "metadata": {},
     "output_type": "display_data"
    }
   ],
   "source": [
    "plt.plot(k, sp, label = '$N^{p}$')\n",
    "#plt.plot(k, spA, label = '$N^{A}(A = 1)$')\n",
    "plt.xscale('log')\n",
    "plt.yscale('log')\n",
    "plt.ylabel('$S^p(k)$')\n",
    "plt.xlabel('k')\n",
    "plt.legend()"
   ]
  }
 ],
 "metadata": {
  "kernelspec": {
   "display_name": "myenv",
   "language": "python",
   "name": "python3"
  },
  "language_info": {
   "codemirror_mode": {
    "name": "ipython",
    "version": 3
   },
   "file_extension": ".py",
   "mimetype": "text/x-python",
   "name": "python",
   "nbconvert_exporter": "python",
   "pygments_lexer": "ipython3",
   "version": "3.10.9"
  },
  "orig_nbformat": 4
 },
 "nbformat": 4,
 "nbformat_minor": 2
}
